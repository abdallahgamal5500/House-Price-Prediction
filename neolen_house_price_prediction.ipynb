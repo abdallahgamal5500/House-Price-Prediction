{
  "nbformat": 4,
  "nbformat_minor": 0,
  "metadata": {
    "colab": {
      "name": "neolen-house-price-prediction.ipynb",
      "provenance": [],
      "collapsed_sections": [],
      "include_colab_link": true
    },
    "kernelspec": {
      "name": "python3",
      "display_name": "Python 3"
    },
    "accelerator": "GPU"
  },
  "cells": [
    {
      "cell_type": "markdown",
      "metadata": {
        "id": "view-in-github",
        "colab_type": "text"
      },
      "source": [
        "<a href=\"https://colab.research.google.com/github/abdallahgamal5500/House-Price-Prediction/blob/main/neolen_house_price_prediction.ipynb\" target=\"_parent\"><img src=\"https://colab.research.google.com/assets/colab-badge.svg\" alt=\"Open In Colab\"/></a>"
      ]
    },
    {
      "cell_type": "markdown",
      "metadata": {
        "id": "lP6JLo1tGNBg"
      },
      "source": [
        "# Artificial Neural Network"
      ]
    },
    {
      "cell_type": "markdown",
      "metadata": {
        "id": "gWZyYmS_UE_L"
      },
      "source": [
        "### Importing the libraries"
      ]
    },
    {
      "cell_type": "code",
      "metadata": {
        "id": "MxkJoQBkUIHC"
      },
      "source": [
        "import numpy as np\n",
        "import matplotlib.pyplot as plt\n",
        "import pandas as pd"
      ],
      "execution_count": 31,
      "outputs": []
    },
    {
      "cell_type": "markdown",
      "metadata": {
        "id": "1E0Q3aoKUCRX"
      },
      "source": [
        "## Part 1 - Data Preprocessing"
      ]
    },
    {
      "cell_type": "markdown",
      "metadata": {
        "id": "cKWAkFVGUU0Z"
      },
      "source": [
        "### Importing the dataset"
      ]
    },
    {
      "cell_type": "code",
      "metadata": {
        "id": "MXUkhkMfU4wq"
      },
      "source": [
        "dataset = pd.read_csv('data.csv')"
      ],
      "execution_count": 33,
      "outputs": []
    },
    {
      "cell_type": "code",
      "source": [
        "dataset.head()"
      ],
      "metadata": {
        "colab": {
          "base_uri": "https://localhost:8080/",
          "height": 300
        },
        "id": "3YVRPVD8vLJ7",
        "outputId": "ca5ad5e9-50db-4c7b-8037-89d271a26a23"
      },
      "execution_count": 34,
      "outputs": [
        {
          "output_type": "execute_result",
          "data": {
            "text/plain": [
              "   Id  MSSubClass MSZoning  LotFrontage  LotArea Street Alley LotShape  \\\n",
              "0   1          60       RL         65.0     8450   Pave   NaN      Reg   \n",
              "1   2          20       RL         80.0     9600   Pave   NaN      Reg   \n",
              "2   3          60       RL         68.0    11250   Pave   NaN      IR1   \n",
              "3   4          70       RL         60.0     9550   Pave   NaN      IR1   \n",
              "4   5          60       RL         84.0    14260   Pave   NaN      IR1   \n",
              "\n",
              "  LandContour Utilities  ... PoolArea PoolQC Fence MiscFeature MiscVal MoSold  \\\n",
              "0         Lvl    AllPub  ...        0    NaN   NaN         NaN       0      2   \n",
              "1         Lvl    AllPub  ...        0    NaN   NaN         NaN       0      5   \n",
              "2         Lvl    AllPub  ...        0    NaN   NaN         NaN       0      9   \n",
              "3         Lvl    AllPub  ...        0    NaN   NaN         NaN       0      2   \n",
              "4         Lvl    AllPub  ...        0    NaN   NaN         NaN       0     12   \n",
              "\n",
              "  YrSold  SaleType  SaleCondition  SalePrice  \n",
              "0   2008        WD         Normal     208500  \n",
              "1   2007        WD         Normal     181500  \n",
              "2   2008        WD         Normal     223500  \n",
              "3   2006        WD        Abnorml     140000  \n",
              "4   2008        WD         Normal     250000  \n",
              "\n",
              "[5 rows x 81 columns]"
            ],
            "text/html": [
              "\n",
              "  <div id=\"df-faf73b2c-b2ac-4bcc-b9f6-a963c0697739\">\n",
              "    <div class=\"colab-df-container\">\n",
              "      <div>\n",
              "<style scoped>\n",
              "    .dataframe tbody tr th:only-of-type {\n",
              "        vertical-align: middle;\n",
              "    }\n",
              "\n",
              "    .dataframe tbody tr th {\n",
              "        vertical-align: top;\n",
              "    }\n",
              "\n",
              "    .dataframe thead th {\n",
              "        text-align: right;\n",
              "    }\n",
              "</style>\n",
              "<table border=\"1\" class=\"dataframe\">\n",
              "  <thead>\n",
              "    <tr style=\"text-align: right;\">\n",
              "      <th></th>\n",
              "      <th>Id</th>\n",
              "      <th>MSSubClass</th>\n",
              "      <th>MSZoning</th>\n",
              "      <th>LotFrontage</th>\n",
              "      <th>LotArea</th>\n",
              "      <th>Street</th>\n",
              "      <th>Alley</th>\n",
              "      <th>LotShape</th>\n",
              "      <th>LandContour</th>\n",
              "      <th>Utilities</th>\n",
              "      <th>...</th>\n",
              "      <th>PoolArea</th>\n",
              "      <th>PoolQC</th>\n",
              "      <th>Fence</th>\n",
              "      <th>MiscFeature</th>\n",
              "      <th>MiscVal</th>\n",
              "      <th>MoSold</th>\n",
              "      <th>YrSold</th>\n",
              "      <th>SaleType</th>\n",
              "      <th>SaleCondition</th>\n",
              "      <th>SalePrice</th>\n",
              "    </tr>\n",
              "  </thead>\n",
              "  <tbody>\n",
              "    <tr>\n",
              "      <th>0</th>\n",
              "      <td>1</td>\n",
              "      <td>60</td>\n",
              "      <td>RL</td>\n",
              "      <td>65.0</td>\n",
              "      <td>8450</td>\n",
              "      <td>Pave</td>\n",
              "      <td>NaN</td>\n",
              "      <td>Reg</td>\n",
              "      <td>Lvl</td>\n",
              "      <td>AllPub</td>\n",
              "      <td>...</td>\n",
              "      <td>0</td>\n",
              "      <td>NaN</td>\n",
              "      <td>NaN</td>\n",
              "      <td>NaN</td>\n",
              "      <td>0</td>\n",
              "      <td>2</td>\n",
              "      <td>2008</td>\n",
              "      <td>WD</td>\n",
              "      <td>Normal</td>\n",
              "      <td>208500</td>\n",
              "    </tr>\n",
              "    <tr>\n",
              "      <th>1</th>\n",
              "      <td>2</td>\n",
              "      <td>20</td>\n",
              "      <td>RL</td>\n",
              "      <td>80.0</td>\n",
              "      <td>9600</td>\n",
              "      <td>Pave</td>\n",
              "      <td>NaN</td>\n",
              "      <td>Reg</td>\n",
              "      <td>Lvl</td>\n",
              "      <td>AllPub</td>\n",
              "      <td>...</td>\n",
              "      <td>0</td>\n",
              "      <td>NaN</td>\n",
              "      <td>NaN</td>\n",
              "      <td>NaN</td>\n",
              "      <td>0</td>\n",
              "      <td>5</td>\n",
              "      <td>2007</td>\n",
              "      <td>WD</td>\n",
              "      <td>Normal</td>\n",
              "      <td>181500</td>\n",
              "    </tr>\n",
              "    <tr>\n",
              "      <th>2</th>\n",
              "      <td>3</td>\n",
              "      <td>60</td>\n",
              "      <td>RL</td>\n",
              "      <td>68.0</td>\n",
              "      <td>11250</td>\n",
              "      <td>Pave</td>\n",
              "      <td>NaN</td>\n",
              "      <td>IR1</td>\n",
              "      <td>Lvl</td>\n",
              "      <td>AllPub</td>\n",
              "      <td>...</td>\n",
              "      <td>0</td>\n",
              "      <td>NaN</td>\n",
              "      <td>NaN</td>\n",
              "      <td>NaN</td>\n",
              "      <td>0</td>\n",
              "      <td>9</td>\n",
              "      <td>2008</td>\n",
              "      <td>WD</td>\n",
              "      <td>Normal</td>\n",
              "      <td>223500</td>\n",
              "    </tr>\n",
              "    <tr>\n",
              "      <th>3</th>\n",
              "      <td>4</td>\n",
              "      <td>70</td>\n",
              "      <td>RL</td>\n",
              "      <td>60.0</td>\n",
              "      <td>9550</td>\n",
              "      <td>Pave</td>\n",
              "      <td>NaN</td>\n",
              "      <td>IR1</td>\n",
              "      <td>Lvl</td>\n",
              "      <td>AllPub</td>\n",
              "      <td>...</td>\n",
              "      <td>0</td>\n",
              "      <td>NaN</td>\n",
              "      <td>NaN</td>\n",
              "      <td>NaN</td>\n",
              "      <td>0</td>\n",
              "      <td>2</td>\n",
              "      <td>2006</td>\n",
              "      <td>WD</td>\n",
              "      <td>Abnorml</td>\n",
              "      <td>140000</td>\n",
              "    </tr>\n",
              "    <tr>\n",
              "      <th>4</th>\n",
              "      <td>5</td>\n",
              "      <td>60</td>\n",
              "      <td>RL</td>\n",
              "      <td>84.0</td>\n",
              "      <td>14260</td>\n",
              "      <td>Pave</td>\n",
              "      <td>NaN</td>\n",
              "      <td>IR1</td>\n",
              "      <td>Lvl</td>\n",
              "      <td>AllPub</td>\n",
              "      <td>...</td>\n",
              "      <td>0</td>\n",
              "      <td>NaN</td>\n",
              "      <td>NaN</td>\n",
              "      <td>NaN</td>\n",
              "      <td>0</td>\n",
              "      <td>12</td>\n",
              "      <td>2008</td>\n",
              "      <td>WD</td>\n",
              "      <td>Normal</td>\n",
              "      <td>250000</td>\n",
              "    </tr>\n",
              "  </tbody>\n",
              "</table>\n",
              "<p>5 rows × 81 columns</p>\n",
              "</div>\n",
              "      <button class=\"colab-df-convert\" onclick=\"convertToInteractive('df-faf73b2c-b2ac-4bcc-b9f6-a963c0697739')\"\n",
              "              title=\"Convert this dataframe to an interactive table.\"\n",
              "              style=\"display:none;\">\n",
              "        \n",
              "  <svg xmlns=\"http://www.w3.org/2000/svg\" height=\"24px\"viewBox=\"0 0 24 24\"\n",
              "       width=\"24px\">\n",
              "    <path d=\"M0 0h24v24H0V0z\" fill=\"none\"/>\n",
              "    <path d=\"M18.56 5.44l.94 2.06.94-2.06 2.06-.94-2.06-.94-.94-2.06-.94 2.06-2.06.94zm-11 1L8.5 8.5l.94-2.06 2.06-.94-2.06-.94L8.5 2.5l-.94 2.06-2.06.94zm10 10l.94 2.06.94-2.06 2.06-.94-2.06-.94-.94-2.06-.94 2.06-2.06.94z\"/><path d=\"M17.41 7.96l-1.37-1.37c-.4-.4-.92-.59-1.43-.59-.52 0-1.04.2-1.43.59L10.3 9.45l-7.72 7.72c-.78.78-.78 2.05 0 2.83L4 21.41c.39.39.9.59 1.41.59.51 0 1.02-.2 1.41-.59l7.78-7.78 2.81-2.81c.8-.78.8-2.07 0-2.86zM5.41 20L4 18.59l7.72-7.72 1.47 1.35L5.41 20z\"/>\n",
              "  </svg>\n",
              "      </button>\n",
              "      \n",
              "  <style>\n",
              "    .colab-df-container {\n",
              "      display:flex;\n",
              "      flex-wrap:wrap;\n",
              "      gap: 12px;\n",
              "    }\n",
              "\n",
              "    .colab-df-convert {\n",
              "      background-color: #E8F0FE;\n",
              "      border: none;\n",
              "      border-radius: 50%;\n",
              "      cursor: pointer;\n",
              "      display: none;\n",
              "      fill: #1967D2;\n",
              "      height: 32px;\n",
              "      padding: 0 0 0 0;\n",
              "      width: 32px;\n",
              "    }\n",
              "\n",
              "    .colab-df-convert:hover {\n",
              "      background-color: #E2EBFA;\n",
              "      box-shadow: 0px 1px 2px rgba(60, 64, 67, 0.3), 0px 1px 3px 1px rgba(60, 64, 67, 0.15);\n",
              "      fill: #174EA6;\n",
              "    }\n",
              "\n",
              "    [theme=dark] .colab-df-convert {\n",
              "      background-color: #3B4455;\n",
              "      fill: #D2E3FC;\n",
              "    }\n",
              "\n",
              "    [theme=dark] .colab-df-convert:hover {\n",
              "      background-color: #434B5C;\n",
              "      box-shadow: 0px 1px 3px 1px rgba(0, 0, 0, 0.15);\n",
              "      filter: drop-shadow(0px 1px 2px rgba(0, 0, 0, 0.3));\n",
              "      fill: #FFFFFF;\n",
              "    }\n",
              "  </style>\n",
              "\n",
              "      <script>\n",
              "        const buttonEl =\n",
              "          document.querySelector('#df-faf73b2c-b2ac-4bcc-b9f6-a963c0697739 button.colab-df-convert');\n",
              "        buttonEl.style.display =\n",
              "          google.colab.kernel.accessAllowed ? 'block' : 'none';\n",
              "\n",
              "        async function convertToInteractive(key) {\n",
              "          const element = document.querySelector('#df-faf73b2c-b2ac-4bcc-b9f6-a963c0697739');\n",
              "          const dataTable =\n",
              "            await google.colab.kernel.invokeFunction('convertToInteractive',\n",
              "                                                     [key], {});\n",
              "          if (!dataTable) return;\n",
              "\n",
              "          const docLinkHtml = 'Like what you see? Visit the ' +\n",
              "            '<a target=\"_blank\" href=https://colab.research.google.com/notebooks/data_table.ipynb>data table notebook</a>'\n",
              "            + ' to learn more about interactive tables.';\n",
              "          element.innerHTML = '';\n",
              "          dataTable['output_type'] = 'display_data';\n",
              "          await google.colab.output.renderOutput(dataTable, element);\n",
              "          const docLink = document.createElement('div');\n",
              "          docLink.innerHTML = docLinkHtml;\n",
              "          element.appendChild(docLink);\n",
              "        }\n",
              "      </script>\n",
              "    </div>\n",
              "  </div>\n",
              "  "
            ]
          },
          "metadata": {},
          "execution_count": 34
        }
      ]
    },
    {
      "cell_type": "code",
      "source": [
        "dataset.info()"
      ],
      "metadata": {
        "colab": {
          "base_uri": "https://localhost:8080/"
        },
        "id": "S9rNKN4m-50K",
        "outputId": "8be08654-a112-40a6-c9b1-975156998d68"
      },
      "execution_count": 35,
      "outputs": [
        {
          "output_type": "stream",
          "name": "stdout",
          "text": [
            "<class 'pandas.core.frame.DataFrame'>\n",
            "RangeIndex: 1259 entries, 0 to 1258\n",
            "Data columns (total 81 columns):\n",
            " #   Column         Non-Null Count  Dtype  \n",
            "---  ------         --------------  -----  \n",
            " 0   Id             1259 non-null   int64  \n",
            " 1   MSSubClass     1259 non-null   int64  \n",
            " 2   MSZoning       1259 non-null   object \n",
            " 3   LotFrontage    1041 non-null   float64\n",
            " 4   LotArea        1259 non-null   int64  \n",
            " 5   Street         1259 non-null   object \n",
            " 6   Alley          76 non-null     object \n",
            " 7   LotShape       1259 non-null   object \n",
            " 8   LandContour    1259 non-null   object \n",
            " 9   Utilities      1259 non-null   object \n",
            " 10  LotConfig      1259 non-null   object \n",
            " 11  LandSlope      1259 non-null   object \n",
            " 12  Neighborhood   1259 non-null   object \n",
            " 13  Condition1     1259 non-null   object \n",
            " 14  Condition2     1259 non-null   object \n",
            " 15  BldgType       1259 non-null   object \n",
            " 16  HouseStyle     1259 non-null   object \n",
            " 17  OverallQual    1259 non-null   int64  \n",
            " 18  OverallCond    1259 non-null   int64  \n",
            " 19  YearBuilt      1259 non-null   int64  \n",
            " 20  YearRemodAdd   1259 non-null   int64  \n",
            " 21  RoofStyle      1259 non-null   object \n",
            " 22  RoofMatl       1259 non-null   object \n",
            " 23  Exterior1st    1259 non-null   object \n",
            " 24  Exterior2nd    1259 non-null   object \n",
            " 25  MasVnrType     1252 non-null   object \n",
            " 26  MasVnrArea     1252 non-null   float64\n",
            " 27  ExterQual      1259 non-null   object \n",
            " 28  ExterCond      1259 non-null   object \n",
            " 29  Foundation     1259 non-null   object \n",
            " 30  BsmtQual       1224 non-null   object \n",
            " 31  BsmtCond       1224 non-null   object \n",
            " 32  BsmtExposure   1223 non-null   object \n",
            " 33  BsmtFinType1   1224 non-null   object \n",
            " 34  BsmtFinSF1     1259 non-null   int64  \n",
            " 35  BsmtFinType2   1223 non-null   object \n",
            " 36  BsmtFinSF2     1259 non-null   int64  \n",
            " 37  BsmtUnfSF      1259 non-null   int64  \n",
            " 38  TotalBsmtSF    1259 non-null   int64  \n",
            " 39  Heating        1259 non-null   object \n",
            " 40  HeatingQC      1259 non-null   object \n",
            " 41  CentralAir     1259 non-null   object \n",
            " 42  Electrical     1259 non-null   object \n",
            " 43  1stFlrSF       1259 non-null   int64  \n",
            " 44  2ndFlrSF       1259 non-null   int64  \n",
            " 45  LowQualFinSF   1259 non-null   int64  \n",
            " 46  GrLivArea      1259 non-null   int64  \n",
            " 47  BsmtFullBath   1259 non-null   int64  \n",
            " 48  BsmtHalfBath   1259 non-null   int64  \n",
            " 49  FullBath       1259 non-null   int64  \n",
            " 50  HalfBath       1259 non-null   int64  \n",
            " 51  BedroomAbvGr   1259 non-null   int64  \n",
            " 52  KitchenAbvGr   1259 non-null   int64  \n",
            " 53  KitchenQual    1259 non-null   object \n",
            " 54  TotRmsAbvGrd   1259 non-null   int64  \n",
            " 55  Functional     1259 non-null   object \n",
            " 56  Fireplaces     1259 non-null   int64  \n",
            " 57  FireplaceQu    660 non-null    object \n",
            " 58  GarageType     1188 non-null   object \n",
            " 59  GarageYrBlt    1188 non-null   float64\n",
            " 60  GarageFinish   1188 non-null   object \n",
            " 61  GarageCars     1259 non-null   int64  \n",
            " 62  GarageArea     1259 non-null   int64  \n",
            " 63  GarageQual     1188 non-null   object \n",
            " 64  GarageCond     1188 non-null   object \n",
            " 65  PavedDrive     1259 non-null   object \n",
            " 66  WoodDeckSF     1259 non-null   int64  \n",
            " 67  OpenPorchSF    1259 non-null   int64  \n",
            " 68  EnclosedPorch  1259 non-null   int64  \n",
            " 69  3SsnPorch      1259 non-null   int64  \n",
            " 70  ScreenPorch    1259 non-null   int64  \n",
            " 71  PoolArea       1259 non-null   int64  \n",
            " 72  PoolQC         4 non-null      object \n",
            " 73  Fence          240 non-null    object \n",
            " 74  MiscFeature    51 non-null     object \n",
            " 75  MiscVal        1259 non-null   int64  \n",
            " 76  MoSold         1259 non-null   int64  \n",
            " 77  YrSold         1259 non-null   int64  \n",
            " 78  SaleType       1259 non-null   object \n",
            " 79  SaleCondition  1259 non-null   object \n",
            " 80  SalePrice      1259 non-null   int64  \n",
            "dtypes: float64(3), int64(35), object(43)\n",
            "memory usage: 796.8+ KB\n"
          ]
        }
      ]
    },
    {
      "cell_type": "code",
      "source": [
        "def dropMostNullCoulmns(df):\n",
        "  x = ((df.isna().sum()/1259)*100) > 40\n",
        "  result = list()\n",
        "  for i in x.keys():\n",
        "      if (x[i]==True):\n",
        "        result.append(i)\n",
        "  return df.drop(columns=result)"
      ],
      "metadata": {
        "id": "h23kkt8r_k4B"
      },
      "execution_count": 36,
      "outputs": []
    },
    {
      "cell_type": "code",
      "source": [
        "dataset = dropMostNullCoulmns(dataset)"
      ],
      "metadata": {
        "id": "XyI_2M1DTqwJ"
      },
      "execution_count": 37,
      "outputs": []
    },
    {
      "cell_type": "code",
      "source": [
        "dataset.info()"
      ],
      "metadata": {
        "colab": {
          "base_uri": "https://localhost:8080/"
        },
        "id": "aErJy3dsWhM6",
        "outputId": "5221376c-b371-485e-be32-3969bd7e96f5"
      },
      "execution_count": 38,
      "outputs": [
        {
          "output_type": "stream",
          "name": "stdout",
          "text": [
            "<class 'pandas.core.frame.DataFrame'>\n",
            "RangeIndex: 1259 entries, 0 to 1258\n",
            "Data columns (total 76 columns):\n",
            " #   Column         Non-Null Count  Dtype  \n",
            "---  ------         --------------  -----  \n",
            " 0   Id             1259 non-null   int64  \n",
            " 1   MSSubClass     1259 non-null   int64  \n",
            " 2   MSZoning       1259 non-null   object \n",
            " 3   LotFrontage    1041 non-null   float64\n",
            " 4   LotArea        1259 non-null   int64  \n",
            " 5   Street         1259 non-null   object \n",
            " 6   LotShape       1259 non-null   object \n",
            " 7   LandContour    1259 non-null   object \n",
            " 8   Utilities      1259 non-null   object \n",
            " 9   LotConfig      1259 non-null   object \n",
            " 10  LandSlope      1259 non-null   object \n",
            " 11  Neighborhood   1259 non-null   object \n",
            " 12  Condition1     1259 non-null   object \n",
            " 13  Condition2     1259 non-null   object \n",
            " 14  BldgType       1259 non-null   object \n",
            " 15  HouseStyle     1259 non-null   object \n",
            " 16  OverallQual    1259 non-null   int64  \n",
            " 17  OverallCond    1259 non-null   int64  \n",
            " 18  YearBuilt      1259 non-null   int64  \n",
            " 19  YearRemodAdd   1259 non-null   int64  \n",
            " 20  RoofStyle      1259 non-null   object \n",
            " 21  RoofMatl       1259 non-null   object \n",
            " 22  Exterior1st    1259 non-null   object \n",
            " 23  Exterior2nd    1259 non-null   object \n",
            " 24  MasVnrType     1252 non-null   object \n",
            " 25  MasVnrArea     1252 non-null   float64\n",
            " 26  ExterQual      1259 non-null   object \n",
            " 27  ExterCond      1259 non-null   object \n",
            " 28  Foundation     1259 non-null   object \n",
            " 29  BsmtQual       1224 non-null   object \n",
            " 30  BsmtCond       1224 non-null   object \n",
            " 31  BsmtExposure   1223 non-null   object \n",
            " 32  BsmtFinType1   1224 non-null   object \n",
            " 33  BsmtFinSF1     1259 non-null   int64  \n",
            " 34  BsmtFinType2   1223 non-null   object \n",
            " 35  BsmtFinSF2     1259 non-null   int64  \n",
            " 36  BsmtUnfSF      1259 non-null   int64  \n",
            " 37  TotalBsmtSF    1259 non-null   int64  \n",
            " 38  Heating        1259 non-null   object \n",
            " 39  HeatingQC      1259 non-null   object \n",
            " 40  CentralAir     1259 non-null   object \n",
            " 41  Electrical     1259 non-null   object \n",
            " 42  1stFlrSF       1259 non-null   int64  \n",
            " 43  2ndFlrSF       1259 non-null   int64  \n",
            " 44  LowQualFinSF   1259 non-null   int64  \n",
            " 45  GrLivArea      1259 non-null   int64  \n",
            " 46  BsmtFullBath   1259 non-null   int64  \n",
            " 47  BsmtHalfBath   1259 non-null   int64  \n",
            " 48  FullBath       1259 non-null   int64  \n",
            " 49  HalfBath       1259 non-null   int64  \n",
            " 50  BedroomAbvGr   1259 non-null   int64  \n",
            " 51  KitchenAbvGr   1259 non-null   int64  \n",
            " 52  KitchenQual    1259 non-null   object \n",
            " 53  TotRmsAbvGrd   1259 non-null   int64  \n",
            " 54  Functional     1259 non-null   object \n",
            " 55  Fireplaces     1259 non-null   int64  \n",
            " 56  GarageType     1188 non-null   object \n",
            " 57  GarageYrBlt    1188 non-null   float64\n",
            " 58  GarageFinish   1188 non-null   object \n",
            " 59  GarageCars     1259 non-null   int64  \n",
            " 60  GarageArea     1259 non-null   int64  \n",
            " 61  GarageQual     1188 non-null   object \n",
            " 62  GarageCond     1188 non-null   object \n",
            " 63  PavedDrive     1259 non-null   object \n",
            " 64  WoodDeckSF     1259 non-null   int64  \n",
            " 65  OpenPorchSF    1259 non-null   int64  \n",
            " 66  EnclosedPorch  1259 non-null   int64  \n",
            " 67  3SsnPorch      1259 non-null   int64  \n",
            " 68  ScreenPorch    1259 non-null   int64  \n",
            " 69  PoolArea       1259 non-null   int64  \n",
            " 70  MiscVal        1259 non-null   int64  \n",
            " 71  MoSold         1259 non-null   int64  \n",
            " 72  YrSold         1259 non-null   int64  \n",
            " 73  SaleType       1259 non-null   object \n",
            " 74  SaleCondition  1259 non-null   object \n",
            " 75  SalePrice      1259 non-null   int64  \n",
            "dtypes: float64(3), int64(35), object(38)\n",
            "memory usage: 747.7+ KB\n"
          ]
        }
      ]
    },
    {
      "cell_type": "code",
      "source": [
        "dataset = dataset.drop(columns=['BsmtFinSF2','LowQualFinSF','EnclosedPorch','3SsnPorch','ScreenPorch','PoolArea','MiscVal'])\n",
        "dataset = dataset.drop(columns=['MasVnrArea','BsmtFinSF1','2ndFlrSF','WoodDeckSF','OpenPorchSF'])\n",
        "dataset = dataset.drop(columns=['YrSold','GarageYrBlt','YearRemodAdd','YearBuilt'])"
      ],
      "metadata": {
        "id": "Mn5_oMzpnPeu"
      },
      "execution_count": 39,
      "outputs": []
    },
    {
      "cell_type": "code",
      "source": [
        "numerical_data = dataset.select_dtypes(exclude=[\"object_\"])\n",
        "categorical_data = dataset.select_dtypes(include=['object'])\n",
        "num_cols = dataset.select_dtypes(exclude=[\"object_\"]).columns\n",
        "cat_cols = dataset.select_dtypes(include=['object']).columns"
      ],
      "metadata": {
        "id": "zi2LMypdQ8I4"
      },
      "execution_count": 40,
      "outputs": []
    },
    {
      "cell_type": "code",
      "source": [
        "numerical_data.to_csv('numerical_data.csv',index = False)\n",
        "categorical_data.to_csv('categorical_data.csv',index = False)"
      ],
      "metadata": {
        "id": "l_QHMfhvc6Ah"
      },
      "execution_count": 41,
      "outputs": []
    },
    {
      "cell_type": "code",
      "source": [
        "def replaceColumnZeros(df,colsName):\n",
        "  for col in colsName:\n",
        "    x = df[np.logical_and(df[col]!=0,df[col]!=np.nan)][col]\n",
        "    x = x.sum()/x.count()\n",
        "    df[col] = df.replace(0, x)[col]"
      ],
      "metadata": {
        "id": "1nFhuLadRdEZ"
      },
      "execution_count": 42,
      "outputs": []
    },
    {
      "cell_type": "code",
      "source": [
        "replaceColumnZeros(dataset,num_cols)"
      ],
      "metadata": {
        "id": "3BCJoVFlWxKv"
      },
      "execution_count": 43,
      "outputs": []
    },
    {
      "cell_type": "code",
      "source": [
        "dataset['LotFrontage'] = dataset.fillna(dataset['LotFrontage'].mean())['LotFrontage']"
      ],
      "metadata": {
        "id": "c6P5SzvrFJTZ"
      },
      "execution_count": 44,
      "outputs": []
    },
    {
      "cell_type": "code",
      "source": [
        "dataset[num_cols].info()"
      ],
      "metadata": {
        "colab": {
          "base_uri": "https://localhost:8080/"
        },
        "id": "E5hP9A0CfuvX",
        "outputId": "e2aa5910-92ec-4826-9c93-ed96e9bc1c75"
      },
      "execution_count": 45,
      "outputs": [
        {
          "output_type": "stream",
          "name": "stdout",
          "text": [
            "<class 'pandas.core.frame.DataFrame'>\n",
            "RangeIndex: 1259 entries, 0 to 1258\n",
            "Data columns (total 22 columns):\n",
            " #   Column        Non-Null Count  Dtype  \n",
            "---  ------        --------------  -----  \n",
            " 0   Id            1259 non-null   int64  \n",
            " 1   MSSubClass    1259 non-null   int64  \n",
            " 2   LotFrontage   1259 non-null   float64\n",
            " 3   LotArea       1259 non-null   int64  \n",
            " 4   OverallQual   1259 non-null   int64  \n",
            " 5   OverallCond   1259 non-null   int64  \n",
            " 6   BsmtUnfSF     1259 non-null   float64\n",
            " 7   TotalBsmtSF   1259 non-null   float64\n",
            " 8   1stFlrSF      1259 non-null   int64  \n",
            " 9   GrLivArea     1259 non-null   int64  \n",
            " 10  BsmtFullBath  1259 non-null   float64\n",
            " 11  BsmtHalfBath  1259 non-null   float64\n",
            " 12  FullBath      1259 non-null   float64\n",
            " 13  HalfBath      1259 non-null   float64\n",
            " 14  BedroomAbvGr  1259 non-null   float64\n",
            " 15  KitchenAbvGr  1259 non-null   float64\n",
            " 16  TotRmsAbvGrd  1259 non-null   int64  \n",
            " 17  Fireplaces    1259 non-null   float64\n",
            " 18  GarageCars    1259 non-null   float64\n",
            " 19  GarageArea    1259 non-null   float64\n",
            " 20  MoSold        1259 non-null   int64  \n",
            " 21  SalePrice     1259 non-null   int64  \n",
            "dtypes: float64(12), int64(10)\n",
            "memory usage: 216.5 KB\n"
          ]
        }
      ]
    },
    {
      "cell_type": "code",
      "source": [
        "dataset[cat_cols].info()"
      ],
      "metadata": {
        "colab": {
          "base_uri": "https://localhost:8080/"
        },
        "id": "-cTJ1UMCgI2f",
        "outputId": "b3f295c5-c0bf-48ac-ef2c-167eb69d5f58"
      },
      "execution_count": 46,
      "outputs": [
        {
          "output_type": "stream",
          "name": "stdout",
          "text": [
            "<class 'pandas.core.frame.DataFrame'>\n",
            "RangeIndex: 1259 entries, 0 to 1258\n",
            "Data columns (total 38 columns):\n",
            " #   Column         Non-Null Count  Dtype \n",
            "---  ------         --------------  ----- \n",
            " 0   MSZoning       1259 non-null   object\n",
            " 1   Street         1259 non-null   object\n",
            " 2   LotShape       1259 non-null   object\n",
            " 3   LandContour    1259 non-null   object\n",
            " 4   Utilities      1259 non-null   object\n",
            " 5   LotConfig      1259 non-null   object\n",
            " 6   LandSlope      1259 non-null   object\n",
            " 7   Neighborhood   1259 non-null   object\n",
            " 8   Condition1     1259 non-null   object\n",
            " 9   Condition2     1259 non-null   object\n",
            " 10  BldgType       1259 non-null   object\n",
            " 11  HouseStyle     1259 non-null   object\n",
            " 12  RoofStyle      1259 non-null   object\n",
            " 13  RoofMatl       1259 non-null   object\n",
            " 14  Exterior1st    1259 non-null   object\n",
            " 15  Exterior2nd    1259 non-null   object\n",
            " 16  MasVnrType     1252 non-null   object\n",
            " 17  ExterQual      1259 non-null   object\n",
            " 18  ExterCond      1259 non-null   object\n",
            " 19  Foundation     1259 non-null   object\n",
            " 20  BsmtQual       1224 non-null   object\n",
            " 21  BsmtCond       1224 non-null   object\n",
            " 22  BsmtExposure   1223 non-null   object\n",
            " 23  BsmtFinType1   1224 non-null   object\n",
            " 24  BsmtFinType2   1223 non-null   object\n",
            " 25  Heating        1259 non-null   object\n",
            " 26  HeatingQC      1259 non-null   object\n",
            " 27  CentralAir     1259 non-null   object\n",
            " 28  Electrical     1259 non-null   object\n",
            " 29  KitchenQual    1259 non-null   object\n",
            " 30  Functional     1259 non-null   object\n",
            " 31  GarageType     1188 non-null   object\n",
            " 32  GarageFinish   1188 non-null   object\n",
            " 33  GarageQual     1188 non-null   object\n",
            " 34  GarageCond     1188 non-null   object\n",
            " 35  PavedDrive     1259 non-null   object\n",
            " 36  SaleType       1259 non-null   object\n",
            " 37  SaleCondition  1259 non-null   object\n",
            "dtypes: object(38)\n",
            "memory usage: 373.9+ KB\n"
          ]
        }
      ]
    },
    {
      "cell_type": "code",
      "source": [
        "dataset = dataset.dropna()"
      ],
      "metadata": {
        "id": "NPUisr_agSgD"
      },
      "execution_count": 47,
      "outputs": []
    },
    {
      "cell_type": "code",
      "source": [
        "dataset.info()"
      ],
      "metadata": {
        "colab": {
          "base_uri": "https://localhost:8080/"
        },
        "id": "K6IUGofjgowP",
        "outputId": "d2a0c848-666b-4186-a524-2a8e40db226c"
      },
      "execution_count": 48,
      "outputs": [
        {
          "output_type": "stream",
          "name": "stdout",
          "text": [
            "<class 'pandas.core.frame.DataFrame'>\n",
            "Int64Index: 1151 entries, 0 to 1258\n",
            "Data columns (total 60 columns):\n",
            " #   Column         Non-Null Count  Dtype  \n",
            "---  ------         --------------  -----  \n",
            " 0   Id             1151 non-null   int64  \n",
            " 1   MSSubClass     1151 non-null   int64  \n",
            " 2   MSZoning       1151 non-null   object \n",
            " 3   LotFrontage    1151 non-null   float64\n",
            " 4   LotArea        1151 non-null   int64  \n",
            " 5   Street         1151 non-null   object \n",
            " 6   LotShape       1151 non-null   object \n",
            " 7   LandContour    1151 non-null   object \n",
            " 8   Utilities      1151 non-null   object \n",
            " 9   LotConfig      1151 non-null   object \n",
            " 10  LandSlope      1151 non-null   object \n",
            " 11  Neighborhood   1151 non-null   object \n",
            " 12  Condition1     1151 non-null   object \n",
            " 13  Condition2     1151 non-null   object \n",
            " 14  BldgType       1151 non-null   object \n",
            " 15  HouseStyle     1151 non-null   object \n",
            " 16  OverallQual    1151 non-null   int64  \n",
            " 17  OverallCond    1151 non-null   int64  \n",
            " 18  RoofStyle      1151 non-null   object \n",
            " 19  RoofMatl       1151 non-null   object \n",
            " 20  Exterior1st    1151 non-null   object \n",
            " 21  Exterior2nd    1151 non-null   object \n",
            " 22  MasVnrType     1151 non-null   object \n",
            " 23  ExterQual      1151 non-null   object \n",
            " 24  ExterCond      1151 non-null   object \n",
            " 25  Foundation     1151 non-null   object \n",
            " 26  BsmtQual       1151 non-null   object \n",
            " 27  BsmtCond       1151 non-null   object \n",
            " 28  BsmtExposure   1151 non-null   object \n",
            " 29  BsmtFinType1   1151 non-null   object \n",
            " 30  BsmtFinType2   1151 non-null   object \n",
            " 31  BsmtUnfSF      1151 non-null   float64\n",
            " 32  TotalBsmtSF    1151 non-null   float64\n",
            " 33  Heating        1151 non-null   object \n",
            " 34  HeatingQC      1151 non-null   object \n",
            " 35  CentralAir     1151 non-null   object \n",
            " 36  Electrical     1151 non-null   object \n",
            " 37  1stFlrSF       1151 non-null   int64  \n",
            " 38  GrLivArea      1151 non-null   int64  \n",
            " 39  BsmtFullBath   1151 non-null   float64\n",
            " 40  BsmtHalfBath   1151 non-null   float64\n",
            " 41  FullBath       1151 non-null   float64\n",
            " 42  HalfBath       1151 non-null   float64\n",
            " 43  BedroomAbvGr   1151 non-null   float64\n",
            " 44  KitchenAbvGr   1151 non-null   float64\n",
            " 45  KitchenQual    1151 non-null   object \n",
            " 46  TotRmsAbvGrd   1151 non-null   int64  \n",
            " 47  Functional     1151 non-null   object \n",
            " 48  Fireplaces     1151 non-null   float64\n",
            " 49  GarageType     1151 non-null   object \n",
            " 50  GarageFinish   1151 non-null   object \n",
            " 51  GarageCars     1151 non-null   float64\n",
            " 52  GarageArea     1151 non-null   float64\n",
            " 53  GarageQual     1151 non-null   object \n",
            " 54  GarageCond     1151 non-null   object \n",
            " 55  PavedDrive     1151 non-null   object \n",
            " 56  MoSold         1151 non-null   int64  \n",
            " 57  SaleType       1151 non-null   object \n",
            " 58  SaleCondition  1151 non-null   object \n",
            " 59  SalePrice      1151 non-null   int64  \n",
            "dtypes: float64(12), int64(10), object(38)\n",
            "memory usage: 548.5+ KB\n"
          ]
        }
      ]
    },
    {
      "cell_type": "code",
      "source": [
        "def encodeCatColumns(df,colsName):\n",
        "  from sklearn.preprocessing import LabelEncoder\n",
        "  le = LabelEncoder()\n",
        "  result1 = np.empty((df.shape[0], 0), int)\n",
        "  for i in colsName:\n",
        "    if len(df[i].unique()) <= 2:\n",
        "      result1 = np.concatenate((result1,np.reshape(le.fit_transform(df[i]), (df.shape[0],1))),axis=1)\n",
        "    else:\n",
        "      result1 = np.concatenate((result1,np.array(pd.get_dummies(df[i]))),axis=1)\n",
        "  return result1"
      ],
      "metadata": {
        "id": "xZuVCUQHxjwo"
      },
      "execution_count": 49,
      "outputs": []
    },
    {
      "cell_type": "code",
      "source": [
        "result = encodeCatColumns(dataset,cat_cols)\n",
        "x = np.array(dataset[num_cols].iloc[:,1:-1])\n",
        "x = np.concatenate((x,result),axis=1)\n",
        "y = dataset[num_cols].iloc[:,-1]"
      ],
      "metadata": {
        "id": "R8H9CeVXjpIA"
      },
      "execution_count": 50,
      "outputs": []
    },
    {
      "cell_type": "code",
      "source": [
        "print(x.shape)"
      ],
      "metadata": {
        "colab": {
          "base_uri": "https://localhost:8080/"
        },
        "id": "bLlxphSnlrR2",
        "outputId": "cae768cd-0940-4fa9-dd2e-c4cddb7bdc4a"
      },
      "execution_count": 51,
      "outputs": [
        {
          "output_type": "stream",
          "name": "stdout",
          "text": [
            "(1151, 242)\n"
          ]
        }
      ]
    },
    {
      "cell_type": "markdown",
      "source": [
        "## Part 2 - Split dataset"
      ],
      "metadata": {
        "id": "HPr3nt5qYfeu"
      }
    },
    {
      "cell_type": "code",
      "source": [
        "from sklearn.model_selection import train_test_split\n",
        "x_train, x_test, y_train, y_test = train_test_split(x, y, test_size = 0.10, random_state = 0)"
      ],
      "metadata": {
        "id": "ehnOjR-fVwCK"
      },
      "execution_count": 52,
      "outputs": []
    },
    {
      "cell_type": "markdown",
      "source": [
        "## Part 3 - Feature scaling "
      ],
      "metadata": {
        "id": "r3d1OgVcY1oE"
      }
    },
    {
      "cell_type": "code",
      "source": [
        "from sklearn.preprocessing import StandardScaler\n",
        "sc = StandardScaler()\n",
        "x_train = sc.fit_transform(x_train)\n",
        "x_test = sc.transform(x_test)"
      ],
      "metadata": {
        "id": "OGObWy6oV30S"
      },
      "execution_count": 53,
      "outputs": []
    },
    {
      "cell_type": "markdown",
      "source": [
        "## Part 4 - Build && Train Model XGBoost"
      ],
      "metadata": {
        "id": "WbJCYCBTY9zt"
      }
    },
    {
      "cell_type": "code",
      "source": [
        "from xgboost import XGBRegressor\n",
        "regressor = XGBRegressor()\n",
        "regressor.fit(x_train, y_train)"
      ],
      "metadata": {
        "id": "0FuDBSzUV6Kg",
        "colab": {
          "base_uri": "https://localhost:8080/"
        },
        "outputId": "710d166a-5768-4151-aeb8-7af9334ab8eb"
      },
      "execution_count": 54,
      "outputs": [
        {
          "output_type": "stream",
          "name": "stdout",
          "text": [
            "[01:06:07] WARNING: /workspace/src/objective/regression_obj.cu:152: reg:linear is now deprecated in favor of reg:squarederror.\n"
          ]
        },
        {
          "output_type": "execute_result",
          "data": {
            "text/plain": [
              "XGBRegressor()"
            ]
          },
          "metadata": {},
          "execution_count": 54
        }
      ]
    },
    {
      "cell_type": "markdown",
      "source": [
        "## Part 5 - Predict"
      ],
      "metadata": {
        "id": "PpcbsOnEZRGg"
      }
    },
    {
      "cell_type": "code",
      "source": [
        "y_pred = regressor.predict(x_test)\n",
        "np.set_printoptions(precision=2)\n",
        "print(np.concatenate((np.array(y_pred).reshape(len(y_pred),1), np.array(y_test).reshape(len(y_test),1)),1))"
      ],
      "metadata": {
        "colab": {
          "base_uri": "https://localhost:8080/"
        },
        "id": "RCUp6aw6XOCM",
        "outputId": "8268c638-86da-439a-f97f-75e996a5d3f2"
      },
      "execution_count": 55,
      "outputs": [
        {
          "output_type": "stream",
          "name": "stdout",
          "text": [
            "[[183047.59 190000.  ]\n",
            " [418414.91 555000.  ]\n",
            " [145503.03 157000.  ]\n",
            " [192203.78 185000.  ]\n",
            " [125131.86 127500.  ]\n",
            " [149284.66 143000.  ]\n",
            " [228392.98 237000.  ]\n",
            " [130194.44  95000.  ]\n",
            " [333457.34 320000.  ]\n",
            " [234480.03 254900.  ]\n",
            " [162850.7  165000.  ]\n",
            " [181479.81 163900.  ]\n",
            " [177509.47 180000.  ]\n",
            " [202224.39 197900.  ]\n",
            " [186943.   206000.  ]\n",
            " [464630.44 485000.  ]\n",
            " [230996.08 239000.  ]\n",
            " [338655.81 319000.  ]\n",
            " [218971.23 230000.  ]\n",
            " [198878.56 189000.  ]\n",
            " [170813.84 180500.  ]\n",
            " [280367.94 264132.  ]\n",
            " [225282.72 222000.  ]\n",
            " [193859.08 167000.  ]\n",
            " [197016.41 234000.  ]\n",
            " [213962.81 187500.  ]\n",
            " [143552.44 143900.  ]\n",
            " [248942.19 272000.  ]\n",
            " [146177.77 129900.  ]\n",
            " [132464.39 130000.  ]\n",
            " [142100.23 150000.  ]\n",
            " [286412.62 255500.  ]\n",
            " [134645.73 131400.  ]\n",
            " [220018.8  201000.  ]\n",
            " [236677.14 235128.  ]\n",
            " [168586.3  140000.  ]\n",
            " [134724.2  152000.  ]\n",
            " [176856.16 155000.  ]\n",
            " [140176.03 131500.  ]\n",
            " [129125.25 132000.  ]\n",
            " [170984.33 160200.  ]\n",
            " [148401.7  146000.  ]\n",
            " [241055.28 257500.  ]\n",
            " [197975.22 194000.  ]\n",
            " [156500.86 161000.  ]\n",
            " [176879.88 145000.  ]\n",
            " [118126.48 110000.  ]\n",
            " [193356.42 223500.  ]\n",
            " [144171.77 119000.  ]\n",
            " [360368.94 402861.  ]\n",
            " [133063.41 124500.  ]\n",
            " [334881.   370878.  ]\n",
            " [141022.66 143000.  ]\n",
            " [152090.8  140000.  ]\n",
            " [153162.64 157000.  ]\n",
            " [173200.06 158000.  ]\n",
            " [151548.44 148000.  ]\n",
            " [122194.38 110000.  ]\n",
            " [162629.97 174000.  ]\n",
            " [263688.53 255000.  ]\n",
            " [210635.94 212000.  ]\n",
            " [319374.44 309000.  ]\n",
            " [157898.88 145000.  ]\n",
            " [274065.62 248000.  ]\n",
            " [254857.86 280000.  ]\n",
            " [178365.81 208300.  ]\n",
            " [112839.02 118500.  ]\n",
            " [165127.25 151000.  ]\n",
            " [155599.38 173733.  ]\n",
            " [154866.2  151000.  ]\n",
            " [101686.25  55993.  ]\n",
            " [126479.05 119000.  ]\n",
            " [145519.84 160000.  ]\n",
            " [129152.09 125000.  ]\n",
            " [152033.52 147400.  ]\n",
            " [128766.47 110000.  ]\n",
            " [135122.47 142500.  ]\n",
            " [192902.38 175000.  ]\n",
            " [150862.97 127000.  ]\n",
            " [294425.09 324000.  ]\n",
            " [177460.78 172785.  ]\n",
            " [109196.8  110000.  ]\n",
            " [202729.34 190000.  ]\n",
            " [126791.16 131500.  ]\n",
            " [ 80309.13  88000.  ]\n",
            " [191016.2  204000.  ]\n",
            " [163403.36 166000.  ]\n",
            " [126535.22 145000.  ]\n",
            " [264937.69 315750.  ]\n",
            " [113951.51 108480.  ]\n",
            " [128880.46 139000.  ]\n",
            " [197094.08 188000.  ]\n",
            " [132034.27 119000.  ]\n",
            " [151769.41 120000.  ]\n",
            " [261549.09 245350.  ]\n",
            " [191179.17 175500.  ]\n",
            " [152198.81 144500.  ]\n",
            " [184189.22 207500.  ]\n",
            " [157643.16 171000.  ]\n",
            " [178502.95 163000.  ]\n",
            " [126305.16 125000.  ]\n",
            " [215734.09 221000.  ]\n",
            " [139337.84 159950.  ]\n",
            " [177697.86 178000.  ]\n",
            " [135761.5  144000.  ]\n",
            " [110739.91 129000.  ]\n",
            " [211865.75 224500.  ]\n",
            " [143274.34 155000.  ]\n",
            " [123876.86 118000.  ]\n",
            " [127955.85 133000.  ]\n",
            " [455270.75 582933.  ]\n",
            " [164411.72 167900.  ]\n",
            " [148925.3  153500.  ]\n",
            " [102359.7   86000.  ]\n",
            " [145641.86 144900.  ]\n",
            " [162465.81 168000.  ]]\n"
          ]
        }
      ]
    },
    {
      "cell_type": "code",
      "source": [
        "for i in range(len(y_pred)):\n",
        "  print(\"pred: {:.2f} \".format(float(y_pred[i])),end = \"\")\n",
        "  print(\"real: {:.2f}\".format(np.array(y_test)[i]),end = \"\")\n",
        "  print(\"\")"
      ],
      "metadata": {
        "colab": {
          "base_uri": "https://localhost:8080/"
        },
        "id": "eLFdFwpNqoQQ",
        "outputId": "40bfc5bc-0ef6-4bf6-f57c-525eb04b7d9d"
      },
      "execution_count": 56,
      "outputs": [
        {
          "output_type": "stream",
          "name": "stdout",
          "text": [
            "pred: 183047.59 real: 190000.00\n",
            "pred: 418414.91 real: 555000.00\n",
            "pred: 145503.03 real: 157000.00\n",
            "pred: 192203.78 real: 185000.00\n",
            "pred: 125131.86 real: 127500.00\n",
            "pred: 149284.66 real: 143000.00\n",
            "pred: 228392.98 real: 237000.00\n",
            "pred: 130194.44 real: 95000.00\n",
            "pred: 333457.34 real: 320000.00\n",
            "pred: 234480.03 real: 254900.00\n",
            "pred: 162850.70 real: 165000.00\n",
            "pred: 181479.81 real: 163900.00\n",
            "pred: 177509.47 real: 180000.00\n",
            "pred: 202224.39 real: 197900.00\n",
            "pred: 186943.00 real: 206000.00\n",
            "pred: 464630.44 real: 485000.00\n",
            "pred: 230996.08 real: 239000.00\n",
            "pred: 338655.81 real: 319000.00\n",
            "pred: 218971.23 real: 230000.00\n",
            "pred: 198878.56 real: 189000.00\n",
            "pred: 170813.84 real: 180500.00\n",
            "pred: 280367.94 real: 264132.00\n",
            "pred: 225282.72 real: 222000.00\n",
            "pred: 193859.08 real: 167000.00\n",
            "pred: 197016.41 real: 234000.00\n",
            "pred: 213962.81 real: 187500.00\n",
            "pred: 143552.44 real: 143900.00\n",
            "pred: 248942.19 real: 272000.00\n",
            "pred: 146177.77 real: 129900.00\n",
            "pred: 132464.39 real: 130000.00\n",
            "pred: 142100.23 real: 150000.00\n",
            "pred: 286412.62 real: 255500.00\n",
            "pred: 134645.73 real: 131400.00\n",
            "pred: 220018.80 real: 201000.00\n",
            "pred: 236677.14 real: 235128.00\n",
            "pred: 168586.30 real: 140000.00\n",
            "pred: 134724.20 real: 152000.00\n",
            "pred: 176856.16 real: 155000.00\n",
            "pred: 140176.03 real: 131500.00\n",
            "pred: 129125.25 real: 132000.00\n",
            "pred: 170984.33 real: 160200.00\n",
            "pred: 148401.70 real: 146000.00\n",
            "pred: 241055.28 real: 257500.00\n",
            "pred: 197975.22 real: 194000.00\n",
            "pred: 156500.86 real: 161000.00\n",
            "pred: 176879.88 real: 145000.00\n",
            "pred: 118126.48 real: 110000.00\n",
            "pred: 193356.42 real: 223500.00\n",
            "pred: 144171.77 real: 119000.00\n",
            "pred: 360368.94 real: 402861.00\n",
            "pred: 133063.41 real: 124500.00\n",
            "pred: 334881.00 real: 370878.00\n",
            "pred: 141022.66 real: 143000.00\n",
            "pred: 152090.80 real: 140000.00\n",
            "pred: 153162.64 real: 157000.00\n",
            "pred: 173200.06 real: 158000.00\n",
            "pred: 151548.44 real: 148000.00\n",
            "pred: 122194.38 real: 110000.00\n",
            "pred: 162629.97 real: 174000.00\n",
            "pred: 263688.53 real: 255000.00\n",
            "pred: 210635.94 real: 212000.00\n",
            "pred: 319374.44 real: 309000.00\n",
            "pred: 157898.88 real: 145000.00\n",
            "pred: 274065.62 real: 248000.00\n",
            "pred: 254857.86 real: 280000.00\n",
            "pred: 178365.81 real: 208300.00\n",
            "pred: 112839.02 real: 118500.00\n",
            "pred: 165127.25 real: 151000.00\n",
            "pred: 155599.38 real: 173733.00\n",
            "pred: 154866.20 real: 151000.00\n",
            "pred: 101686.25 real: 55993.00\n",
            "pred: 126479.05 real: 119000.00\n",
            "pred: 145519.84 real: 160000.00\n",
            "pred: 129152.09 real: 125000.00\n",
            "pred: 152033.52 real: 147400.00\n",
            "pred: 128766.47 real: 110000.00\n",
            "pred: 135122.47 real: 142500.00\n",
            "pred: 192902.38 real: 175000.00\n",
            "pred: 150862.97 real: 127000.00\n",
            "pred: 294425.09 real: 324000.00\n",
            "pred: 177460.78 real: 172785.00\n",
            "pred: 109196.80 real: 110000.00\n",
            "pred: 202729.34 real: 190000.00\n",
            "pred: 126791.16 real: 131500.00\n",
            "pred: 80309.13 real: 88000.00\n",
            "pred: 191016.20 real: 204000.00\n",
            "pred: 163403.36 real: 166000.00\n",
            "pred: 126535.22 real: 145000.00\n",
            "pred: 264937.69 real: 315750.00\n",
            "pred: 113951.51 real: 108480.00\n",
            "pred: 128880.46 real: 139000.00\n",
            "pred: 197094.08 real: 188000.00\n",
            "pred: 132034.27 real: 119000.00\n",
            "pred: 151769.41 real: 120000.00\n",
            "pred: 261549.09 real: 245350.00\n",
            "pred: 191179.17 real: 175500.00\n",
            "pred: 152198.81 real: 144500.00\n",
            "pred: 184189.22 real: 207500.00\n",
            "pred: 157643.16 real: 171000.00\n",
            "pred: 178502.95 real: 163000.00\n",
            "pred: 126305.16 real: 125000.00\n",
            "pred: 215734.09 real: 221000.00\n",
            "pred: 139337.84 real: 159950.00\n",
            "pred: 177697.86 real: 178000.00\n",
            "pred: 135761.50 real: 144000.00\n",
            "pred: 110739.91 real: 129000.00\n",
            "pred: 211865.75 real: 224500.00\n",
            "pred: 143274.34 real: 155000.00\n",
            "pred: 123876.86 real: 118000.00\n",
            "pred: 127955.85 real: 133000.00\n",
            "pred: 455270.75 real: 582933.00\n",
            "pred: 164411.72 real: 167900.00\n",
            "pred: 148925.30 real: 153500.00\n",
            "pred: 102359.70 real: 86000.00\n",
            "pred: 145641.86 real: 144900.00\n",
            "pred: 162465.81 real: 168000.00\n"
          ]
        }
      ]
    },
    {
      "cell_type": "markdown",
      "source": [
        "## Part 5 - Evaluate the model"
      ],
      "metadata": {
        "id": "9cvIAkc_Znp5"
      }
    },
    {
      "cell_type": "code",
      "source": [
        "from sklearn.metrics import r2_score\n",
        "r2_score(y_test, y_pred)"
      ],
      "metadata": {
        "colab": {
          "base_uri": "https://localhost:8080/"
        },
        "id": "R3kN-iS_vHup",
        "outputId": "104efe49-c46f-4a38-e9f8-61c122e73854"
      },
      "execution_count": 57,
      "outputs": [
        {
          "output_type": "execute_result",
          "data": {
            "text/plain": [
              "0.9154589156788818"
            ]
          },
          "metadata": {},
          "execution_count": 57
        }
      ]
    },
    {
      "cell_type": "markdown",
      "source": [
        "## Part 6 - Visualize Y-Predicted vs Y-Test"
      ],
      "metadata": {
        "id": "051akgPHZiDW"
      }
    },
    {
      "cell_type": "code",
      "source": [
        "fig = plt.gcf()\n",
        "x = np.arange(1,len(y_pred)+1)\n",
        "plt.plot(x,y_pred, color = 'r', label='Y Pred')\n",
        "plt.plot(x,y_test, color = 'b', label='Y Test')\n",
        "fig.set_size_inches(18.5, 10.5)\n",
        "plt.legend()\n",
        "plt.show()"
      ],
      "metadata": {
        "colab": {
          "base_uri": "https://localhost:8080/",
          "height": 493
        },
        "id": "4r-JS56Ozw4X",
        "outputId": "df58933d-4a85-4bbd-8fb6-52608e05b130"
      },
      "execution_count": 58,
      "outputs": [
        {
          "output_type": "display_data",
          "data": {
            "text/plain": [
              "<Figure size 1332x756 with 1 Axes>"
            ],
            "image/png": "[encoded data removed]"
          },
          "metadata": {
            "needs_background": "light"
          }
        }
      ]
    }
  ]
}